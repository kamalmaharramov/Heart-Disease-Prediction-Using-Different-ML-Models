{
 "cells": [
  {
   "cell_type": "code",
   "execution_count": 1,
   "id": "7ad48aad",
   "metadata": {},
   "outputs": [],
   "source": [
    "import pandas as pd \n",
    "import numpy as np\n",
    "from sklearn.model_selection import train_test_split\n",
    "from sklearn.preprocessing import StandardScaler\n",
    "from sklearn.linear_model import LinearRegression\n",
    "from sklearn.metrics import mean_squared_error,r2_score"
   ]
  },
  {
   "cell_type": "code",
   "execution_count": 18,
   "id": "21711ac4",
   "metadata": {},
   "outputs": [
    {
     "data": {
      "text/plain": [
       "0.6733825506400195"
      ]
     },
     "execution_count": 18,
     "metadata": {},
     "output_type": "execute_result"
    }
   ],
   "source": [
    "boston=pd.read_csv(\"boston.csv\")\n",
    "X=boston.drop(\"MEDV\",axis=1)\n",
    "y=boston[\"MEDV\"]\n",
    "X_train, X_test, y_train, y_test = train_test_split(X, y,test_size=0.3, random_state =0)\n",
    "scaler = StandardScaler()\n",
    "X_train_scaled_linear = scaler.fit_transform(X_train)\n",
    "X_test_scaled = scaler.transform(X_test)\n",
    "linreg=LinearRegression()\n",
    "linreg.fit(X_train_scaled_linear,y_train)\n",
    "linreg.predict(X_train_scaled_linear)\n",
    "r2_score(y_test,linreg.predict(X_test_scaled))"
   ]
  },
  {
   "cell_type": "code",
   "execution_count": 28,
   "id": "1d32ec1f",
   "metadata": {},
   "outputs": [
    {
     "data": {
      "text/plain": [
       "0.7137550642049939"
      ]
     },
     "execution_count": 28,
     "metadata": {},
     "output_type": "execute_result"
    }
   ],
   "source": [
    "from sklearn.preprocessing import PolynomialFeatures\n",
    "polyreg=PolynomialFeatures()\n",
    "X_scaled=polyreg.fit_transform(X)\n",
    "X_scaled_train,X_scaled_test,y_train,y_test=train_test_split(X_scaled,y,test_size=0.3,random_state=42)\n",
    "poly_linreg=LinearRegression()\n",
    "poly_linreg.fit(X_scaled_train,y_train)\n",
    "poly_linreg.predict(X_scaled_test)\n",
    "r2_score(y_train,poly_linreg.predict(X_scaled_train))"
   ]
  },
  {
   "cell_type": "code",
   "execution_count": 39,
   "id": "f98ef8fb",
   "metadata": {},
   "outputs": [
    {
     "data": {
      "text/plain": [
       "-0.20169340318416218"
      ]
     },
     "execution_count": 39,
     "metadata": {},
     "output_type": "execute_result"
    }
   ],
   "source": [
    "from sklearn.ensemble import RandomForestRegressor\n",
    "randomreg=RandomForestRegressor(n_estimators=10,random_state=42)\n",
    "randomreg.fit(X_train,y_train)\n",
    "randomreg.predict(X_test)\n",
    "r2_score(y_test,randomreg.predict(X_test))"
   ]
  },
  {
   "cell_type": "code",
   "execution_count": 59,
   "id": "fc269710",
   "metadata": {},
   "outputs": [
    {
     "data": {
      "text/plain": [
       "0.017866752894173277"
      ]
     },
     "execution_count": 59,
     "metadata": {},
     "output_type": "execute_result"
    }
   ],
   "source": [
    "from sklearn.svm import SVR\n",
    "sc_X = StandardScaler()\n",
    "sc_y = StandardScaler()\n",
    "X_train_sc=sc_X.fit_transform(X_train)\n",
    "X_test_sc=sc_X.transform(X_test)\n",
    "svrreg=SVR(kernel=\"rbf\")\n",
    "svrreg.fit(X_train_sc,y_train)\n",
    "svrreg_pred=svrreg.predict(X_train_sc)\n",
    "r2_score(y_train,svrreg_pred)"
   ]
  },
  {
   "cell_type": "code",
   "execution_count": 70,
   "id": "70fb3c8a",
   "metadata": {},
   "outputs": [
    {
     "data": {
      "text/plain": [
       "-1.8460451141208423"
      ]
     },
     "execution_count": 70,
     "metadata": {},
     "output_type": "execute_result"
    }
   ],
   "source": [
    "from sklearn.tree import DecisionTreeRegressor\n",
    "treereg=DecisionTreeRegressor(random_state=0)\n",
    "treereg.fit(X_train,y_train)\n",
    "treereg.predict(X_test)\n",
    "r2_score(y_test,treereg.predict(X_test))"
   ]
  },
  {
   "cell_type": "code",
   "execution_count": 72,
   "id": "39a3e432",
   "metadata": {},
   "outputs": [
    {
     "data": {
      "text/plain": [
       "-0.07948290205206932"
      ]
     },
     "execution_count": 72,
     "metadata": {},
     "output_type": "execute_result"
    }
   ],
   "source": [
    "from sklearn.linear_model import Ridge\n",
    "ridge_reg = Ridge(alpha=3, solver=\"cholesky\")\n",
    "ridge_reg.fit(X_train,y_train)\n",
    "ridge_reg.predict(X_train)\n",
    "r2_score(y_test,ridge_reg.predict(X_test))"
   ]
  },
  {
   "cell_type": "code",
   "execution_count": 73,
   "id": "af309b16",
   "metadata": {},
   "outputs": [
    {
     "data": {
      "text/plain": [
       "-0.03441315716560145"
      ]
     },
     "execution_count": 73,
     "metadata": {},
     "output_type": "execute_result"
    }
   ],
   "source": [
    "from sklearn.linear_model import Lasso\n",
    "ridge_las = Lasso(alpha=3)\n",
    "ridge_las.fit(X_train,y_train)\n",
    "ridge_las.predict(X_train)\n",
    "r2_score(y_test,ridge_las.predict(X_test))"
   ]
  },
  {
   "cell_type": "code",
   "execution_count": 74,
   "id": "8d5b919d",
   "metadata": {},
   "outputs": [
    {
     "ename": "SyntaxError",
     "evalue": "invalid syntax (2966834039.py, line 1)",
     "output_type": "error",
     "traceback": [
      "\u001b[1;36m  Cell \u001b[1;32mIn[74], line 1\u001b[1;36m\u001b[0m\n\u001b[1;33m    git init\u001b[0m\n\u001b[1;37m        ^\u001b[0m\n\u001b[1;31mSyntaxError\u001b[0m\u001b[1;31m:\u001b[0m invalid syntax\n"
     ]
    }
   ],
   "source": [
    "git init\n",
    "git add README.md\n",
    "git commit -m \"first commit\"\n",
    "git branch -M main\n",
    "git remote add origin https://github.com/kamalmaharramov/RegressionModelsInBostonHouses.git\n",
    "git push -u origin main"
   ]
  },
  {
   "cell_type": "code",
   "execution_count": null,
   "id": "b3de7d8d",
   "metadata": {},
   "outputs": [],
   "source": []
  }
 ],
 "metadata": {
  "kernelspec": {
   "display_name": "Python 3 (ipykernel)",
   "language": "python",
   "name": "python3"
  },
  "language_info": {
   "codemirror_mode": {
    "name": "ipython",
    "version": 3
   },
   "file_extension": ".py",
   "mimetype": "text/x-python",
   "name": "python",
   "nbconvert_exporter": "python",
   "pygments_lexer": "ipython3",
   "version": "3.11.4"
  }
 },
 "nbformat": 4,
 "nbformat_minor": 5
}
